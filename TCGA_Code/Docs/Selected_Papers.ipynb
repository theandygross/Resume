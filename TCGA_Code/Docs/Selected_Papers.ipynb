{
 "cells": [
  {
   "cell_type": "markdown",
   "metadata": {},
   "source": [
    "#Selected Papers"
   ]
  },
  {
   "cell_type": "markdown",
   "metadata": {},
   "source": [
    "####Multi-tiered genomic analysis of head and neck cancer ties TP53 mutation to 3p loss\n",
    "\n",
    "<b>Gross, A.M.</b>, Orosco, R.K., Shen, J.P., Egloff, A.M., Carter, H., Hofree, M., Choueiri, M., Coffey, C.S., Lippman, S.M., Hayes, D.N., Cohen, E.E., Grandis, J.R., Nguyen, Q.T. and Ideker, T. (2014). Multi-tiered genomic analysis of head and neck cancer ties TP53 mutation to 3p loss. <i>Nature Genetics</i> 46, 939–943. \n",
    "* [Nature Genetics](http://www.nature.com/ng/journal/vaop/ncurrent/full/ng.3051.html), [PubMed](http://www.ncbi.nlm.nih.gov/pubmed/25086664) \n",
    "* [Github Repository](https://github.com/theandygross/TCGA), [Analysis Notebooks](http://nbviewer.ipython.org/github/theandygross/TCGA/blob/master/Analysis_Notebooks/Index.ipynb) \n",
    "* [UCSD Press Release](http://ucsdnews.ucsd.edu/pressrelease/tumor_suppressor_mutations_alone_dont_explain_deadly_cancer)"
   ]
  },
  {
   "cell_type": "markdown",
   "metadata": {},
   "source": [
    "Presented at [2014 TCGA Annual Symposium](http://www.genome.gov/27557040). "
   ]
  },
  {
   "cell_type": "code",
   "execution_count": 8,
   "metadata": {
    "collapsed": false
   },
   "outputs": [
    {
     "data": {
      "text/html": [
       "\n",
       "        <iframe\n",
       "            width=\"640\"\n",
       "            height=\"390\"\n",
       "            src=\"https://www.youtube.com/embed/i1ZQLNd9Jrs\"\n",
       "            frameborder=\"0\"\n",
       "            allowfullscreen\n",
       "        ></iframe>\n",
       "        "
      ],
      "text/plain": [
       "<IPython.lib.display.YouTubeVideo at 0x7f7d57a3e6d0>"
      ]
     },
     "execution_count": 8,
     "metadata": {},
     "output_type": "execute_result"
    }
   ],
   "source": [
    "from IPython.lib.display import YouTubeVideo\n",
    "YouTubeVideo('i1ZQLNd9Jrs', height='390', width='640')"
   ]
  },
  {
   "cell_type": "code",
   "execution_count": null,
   "metadata": {
    "collapsed": true
   },
   "outputs": [],
   "source": []
  }
 ],
 "metadata": {
  "kernelspec": {
   "display_name": "Python 2",
   "language": "python",
   "name": "python2"
  },
  "language_info": {
   "codemirror_mode": {
    "name": "ipython",
    "version": 2
   },
   "file_extension": ".py",
   "mimetype": "text/x-python",
   "name": "python",
   "nbconvert_exporter": "python",
   "pygments_lexer": "ipython2",
   "version": "2.7.9"
  }
 },
 "nbformat": 4,
 "nbformat_minor": 0
}
